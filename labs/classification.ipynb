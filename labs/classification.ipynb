{
 "metadata": {
  "name": ""
 },
 "nbformat": 3,
 "nbformat_minor": 0,
 "worksheets": [
  {
   "cells": [
    {
     "cell_type": "markdown",
     "metadata": {},
     "source": [
      "Introduction\n",
      "---\n",
      "* We will replicate the WEKA labs using scikit-learn, numpy and scipy\n",
      "* You can use this setup to complete your assigment\n",
      "* We are going to use the same example/arff files that you used for the WEKA labs\n",
      "* You DO NOT have to use ipython (you can use standard python instead) but, but ipython makes your work more visually \"tidy\""
     ]
    },
    {
     "cell_type": "markdown",
     "metadata": {},
     "source": [
      "IPython\n",
      "---\n",
      "* IPython notebooks provide cells that allow the user to mix text with code and graphs\n",
      "* Tries to abstract a scientist's \"notebook\"\n",
      "* Extremely useful when you experiment with data and/or try to convey ideas to thrird parties\n",
      "* Let's start by defining a function that loads arff files"
     ]
    },
    {
     "cell_type": "code",
     "collapsed": false,
     "input": [
      "\n",
      "\n",
      "# Preprocessing stage, load data and check what has inside\n",
      "# Imports are always on demand\n",
      "import numpy as np\n",
      "import pandas as pd\n",
      "from scipy.io.arff import loadarff\n",
      "from sklearn.feature_extraction import DictVectorizer\n",
      "from sklearn.preprocessing import LabelEncoder \n",
      "\n",
      "# numpy printing optinos\n",
      "np.set_printoptions(precision=4)\n",
      "np.set_printoptions(suppress=True)\n",
      "\n",
      "\n",
      "def arfftosk(filename):\n",
      "    \"\"\"Function to convert a .arff file with all categorical attributes to sklearn-compatible format.\n",
      "\n",
      "    Keyword arguments:\n",
      "    filename -- the name of the file\n",
      "    \"\"\"\n",
      "\n",
      "    data_raw, metadata_raw = loadarff(filename)\n",
      "    df = pd.DataFrame(data_raw)\n",
      "    # numpy notation for multiple columns, select everything but the last column\n",
      "    X_df = df.iloc[:,:-1]\n",
      "    # last column is the \n",
      "    y_df = df.iloc[:,-1]\n",
      "    X_vectorizer = DictVectorizer( sparse = False )\n",
      "    y_encoder = LabelEncoder()\n",
      "    X_dict = X_df.T.to_dict().values()\n",
      "    \n",
      "    X = X_vectorizer.fit_transform(X_dict)\n",
      "    y = y_encoder.fit_transform(y_df)\n",
      "\n",
      "    \n",
      "    return X,y, X_vectorizer, y_encoder\n",
      "\n",
      "\n",
      "X_train,y_train, X_vectorizer_train, y_encoder_train = arfftosk(\"ColdHayfever2_10000py.arff\")\n",
      "X_test,y_test, X_vectorizer_test, y_encoder_test = arfftosk(\"ColdHayfever2_10000py_test.arff\")\n",
      "\n",
      "\n",
      "\n"
     ],
     "language": "python",
     "metadata": {},
     "outputs": [],
     "prompt_number": 1
    },
    {
     "cell_type": "markdown",
     "metadata": {},
     "source": [
      "Inspecting the code\n",
      "===\n",
      "* Notice the use of scipy, numpy and sklearn in the previous example \n",
      "* Numpy and scipy are part of the python ecosystem for numerical computing\n",
      "* SKlearn is the defacto machine learning standard library for python\n",
      "* Documentation here: http://scikit-learn.org/stable/modules/classes.html\n",
      "* We can now try to see what's in the loaded variables\n"
     ]
    },
    {
     "cell_type": "code",
     "collapsed": false,
     "input": [
      "# Notice the one-hot encoding, we have more features than in the weka file\n",
      "X_train[0:4]"
     ],
     "language": "python",
     "metadata": {},
     "outputs": [
      {
       "metadata": {},
       "output_type": "pyout",
       "prompt_number": 2,
       "text": [
        "array([[ 1.,  0.,  0.,  1.,  1.,  0.],\n",
        "       [ 1.,  0.,  0.,  1.,  1.,  0.],\n",
        "       [ 1.,  0.,  0.,  1.,  1.,  0.],\n",
        "       [ 1.,  0.,  0.,  1.,  0.,  1.]])"
       ]
      }
     ],
     "prompt_number": 2
    },
    {
     "cell_type": "code",
     "collapsed": false,
     "input": [
      "X_vectorizer_train.vocabulary_"
     ],
     "language": "python",
     "metadata": {},
     "outputs": [
      {
       "metadata": {},
       "output_type": "pyout",
       "prompt_number": 3,
       "text": [
        "{'Rural=No': 0,\n",
        " 'Rural=Yes': 1,\n",
        " 'Season=AW': 2,\n",
        " 'Season=SS': 3,\n",
        " 'Sneeze=No': 4,\n",
        " 'Sneeze=Yes': 5}"
       ]
      }
     ],
     "prompt_number": 3
    },
    {
     "cell_type": "code",
     "collapsed": false,
     "input": [
      "X_vectorizer_train.feature_names_"
     ],
     "language": "python",
     "metadata": {},
     "outputs": [
      {
       "metadata": {},
       "output_type": "pyout",
       "prompt_number": 4,
       "text": [
        "['Rural=No', 'Rural=Yes', 'Season=AW', 'Season=SS', 'Sneeze=No', 'Sneeze=Yes']"
       ]
      }
     ],
     "prompt_number": 4
    },
    {
     "cell_type": "markdown",
     "metadata": {},
     "source": [
      "Why the need for so much data manipulation?\n",
      "=== \n",
      "* We used a the vectoriser class to transform between arff and sklearn features\n",
      "* The issue here is that sklearn treats all inputs as arrays of floating point numbers\n",
      "* This assumes a relationship between values which probably is not there\n",
      "* Check sklearn documention (link above) for more\n",
      "* Let's see now how things look for the train and test classes \n"
     ]
    },
    {
     "cell_type": "code",
     "collapsed": false,
     "input": [
      "y_encoder_train.classes_"
     ],
     "language": "python",
     "metadata": {},
     "outputs": [
      {
       "metadata": {},
       "output_type": "pyout",
       "prompt_number": 5,
       "text": [
        "array(['Cold', 'HayFever', 'Healthy'], dtype=object)"
       ]
      }
     ],
     "prompt_number": 5
    },
    {
     "cell_type": "code",
     "collapsed": false,
     "input": [
      "y_encoder_test.classes_"
     ],
     "language": "python",
     "metadata": {},
     "outputs": [
      {
       "metadata": {},
       "output_type": "pyout",
       "prompt_number": 6,
       "text": [
        "array(['Cold', 'HayFever', 'Healthy'], dtype=object)"
       ]
      }
     ],
     "prompt_number": 6
    },
    {
     "cell_type": "markdown",
     "metadata": {},
     "source": [
      "Training a classifier on the data\n",
      "===\n",
      "* Now that we are happy with the content of our data, we can start the training process\n",
      "* Let's import sklearn.tree and fit the data\n",
      "* There are three functions of great importance in sklearn \n",
      "    * .fit(X,[,y]), that trains the classifier/regressor/etc\n",
      "    * .transform(X), that transforms the data (used mainly in unsupervised learning)\n",
      "    * .predict(y) that tries to make predictions using the trained classifier/regressor/etc"
     ]
    },
    {
     "cell_type": "code",
     "collapsed": false,
     "input": [
      "from sklearn import tree\n",
      "\n",
      "clf = tree.DecisionTreeClassifier(max_depth = 1, criterion = \"entropy\")\n",
      "clf = clf.fit(X_train, y_train)"
     ],
     "language": "python",
     "metadata": {},
     "outputs": [],
     "prompt_number": 7
    },
    {
     "cell_type": "markdown",
     "metadata": {},
     "source": [
      "Metrics\n",
      "===\n",
      "* Now that we have a trained classifier, we can use it to make predictions on the test set\n",
      "* It's also worth finding the mean cross-validation score for that classifier"
     ]
    },
    {
     "cell_type": "code",
     "collapsed": false,
     "input": [
      "from sklearn.metrics import accuracy_score\n",
      "from sklearn.cross_validation import cross_val_score\n",
      "\n",
      "print \"Mean CV accuracy:%f\"%(cross_val_score(clf, X_train,y_train,cv = 10).mean())\n",
      "y_pred = clf.predict(X_test)\n",
      "print \"Test Set accuracy:%f\"%(accuracy_score(y_test,y_pred))"
     ],
     "language": "python",
     "metadata": {},
     "outputs": [
      {
       "output_type": "stream",
       "stream": "stdout",
       "text": [
        "Mean CV accuracy:0.945504\n",
        "Test Set accuracy:0.942100\n"
       ]
      }
     ],
     "prompt_number": 8
    },
    {
     "cell_type": "markdown",
     "metadata": {},
     "source": [
      "Visualisation\n",
      "===\n",
      "* We can also try to visualise the tree we created\n",
      "* Notice how the tree has a depth of 1"
     ]
    },
    {
     "cell_type": "code",
     "collapsed": false,
     "input": [
      "from sklearn.externals.six import StringIO  \n",
      "import pydot \n",
      "from IPython.display import Image\n",
      "dot_data = StringIO() \n",
      "tree.export_graphviz(clf,feature_names = X_vectorizer_train.feature_names_,  out_file=dot_data) \n",
      "graph = pydot.graph_from_dot_data(dot_data.getvalue()) \n",
      "Image(graph.create_png())\n"
     ],
     "language": "python",
     "metadata": {},
     "outputs": [
      {
       "metadata": {},
       "output_type": "pyout",
       "png": "[encoded data removed]",
       "prompt_number": 9,
       "text": [
        "<IPython.core.display.Image at 0x7ff4755cc990>"
       ]
      }
     ],
     "prompt_number": 9
    },
    {
     "cell_type": "markdown",
     "metadata": {},
     "source": [
      "Short exercise\n",
      "===\n",
      "* Now go back and modify this notebook to do the following\n",
      "    * Use trees of depth two\n",
      "    * Load training data from \"credit-g.arff\""
     ]
    }
   ],
   "metadata": {}
  }
 ]
}