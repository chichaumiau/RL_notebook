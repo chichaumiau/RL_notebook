{
 "metadata": {
  "name": ""
 },
 "nbformat": 3,
 "nbformat_minor": 0,
 "worksheets": [
  {
   "cells": [
    {
     "cell_type": "markdown",
     "metadata": {},
     "source": [
      "Introduction\n",
      "---\n",
      "* We will replicate the WEKA labs using scikit-learn, numpy and scipy\n",
      "* You can use this setup to complete your assigment\n",
      "* We are going to use the same example/arff files that you used for the WEKA labs\n",
      "* You DO NOT have to use ipython (you can use standard python instead) but, but ipython makes your work more visually \"tidy\""
     ]
    },
    {
     "cell_type": "markdown",
     "metadata": {},
     "source": [
      "IPython\n",
      "---\n",
      "* IPython notebooks provide cells that allow the user to mix text with code and graphs\n",
      "* Tries to abstract a scientist's \"notebook\"\n",
      "* Extremely usefull when you experiment with data and/or try to convey ideas to thrird parties\n",
      "* Let's  start with python imports and some function definitions!"
     ]
    },
    {
     "cell_type": "code",
     "collapsed": false,
     "input": [
      "# Preprocessing stage, load data and check what has inside\n",
      "# Imports are always on demand\n",
      "import numpy as np\n",
      "import pandas as pd\n",
      "from scipy.io.arff import loadarff\n",
      "from sklearn.feature_extraction import DictVectorizer\n",
      "from sklearn.preprocessing import LabelEncoder \n",
      "\n",
      "\n",
      "def arfftosk(filename):\n",
      "    \"\"\"Function to convert a .arff file with all categorical attributes to sklearn-compatible format.\n",
      "\n",
      "    Keyword arguments:\n",
      "    filename -- the name of the file\n",
      "    \"\"\"\n",
      "\n",
      "    data_raw, metadata_raw = loadarff(filename)\n",
      "    df = pd.DataFrame(data_raw)\n",
      "    # numpy notation for multiple columns, select first n_dc\n",
      "    X_df = df.iloc[:,:-2]\n",
      "    # last column is the \n",
      "    y_df = df.iloc[:,-1]\n",
      "    X_vectorizer = DictVectorizer( sparse = False )\n",
      "    y_encoder = LabelEncoder()\n",
      "    X_dict = X_df.T.to_dict().values()\n",
      "    \n",
      "    X = X_vectorizer.fit_transform(X_dict)\n",
      "    y = y_encoder.fit_transform(y_df)\n",
      "\n",
      "    \n",
      "    return X,y, X_vectorizer, y_encoder\n",
      "\n",
      "\n",
      "X_train,y_train, X_vectorizer_train, y_encoder_train = arfftosk(\"ColdHayfever2_10000py.arff\")\n",
      "X_test,y_test, X_vectorizer_test, y_encoder_test = arfftosk(\"ColdHayfever2_10000py_test.arff\")\n",
      "\n",
      "#X_train,y_train, X_vectorizer_train, y_encoder_train = arfftosk(\"credit-g.arff\")\n",
      "\n",
      "\n"
     ],
     "language": "python",
     "metadata": {},
     "outputs": [],
     "prompt_number": 5
    },
    {
     "cell_type": "code",
     "collapsed": false,
     "input": [
      "# Notice the one-hot encoding, we have more features than in the weka file\n",
      "X_train[0:4]"
     ],
     "language": "python",
     "metadata": {},
     "outputs": [
      {
       "metadata": {},
       "output_type": "pyout",
       "prompt_number": 6,
       "text": [
        "array([[ 1.,  0.,  0.,  1.,  1.,  0.],\n",
        "       [ 1.,  0.,  0.,  1.,  1.,  0.],\n",
        "       [ 1.,  0.,  0.,  1.,  1.,  0.],\n",
        "       [ 1.,  0.,  0.,  1.,  0.,  1.]])"
       ]
      }
     ],
     "prompt_number": 6
    },
    {
     "cell_type": "code",
     "collapsed": false,
     "input": [
      "X_vectorizer_train.vocabulary_"
     ],
     "language": "python",
     "metadata": {},
     "outputs": [
      {
       "metadata": {},
       "output_type": "pyout",
       "prompt_number": 7,
       "text": [
        "{'Rural=No': 0,\n",
        " 'Rural=Yes': 1,\n",
        " 'Season=AW': 2,\n",
        " 'Season=SS': 3,\n",
        " 'Sneeze=No': 4,\n",
        " 'Sneeze=Yes': 5}"
       ]
      }
     ],
     "prompt_number": 7
    },
    {
     "cell_type": "code",
     "collapsed": false,
     "input": [
      "X_vectorizer_train.feature_names_"
     ],
     "language": "python",
     "metadata": {},
     "outputs": [
      {
       "metadata": {},
       "output_type": "pyout",
       "prompt_number": 8,
       "text": [
        "['Rural=No', 'Rural=Yes', 'Season=AW', 'Season=SS', 'Sneeze=No', 'Sneeze=Yes']"
       ]
      }
     ],
     "prompt_number": 8
    },
    {
     "cell_type": "code",
     "collapsed": false,
     "input": [
      "y_encoder_train.classes_"
     ],
     "language": "python",
     "metadata": {},
     "outputs": [
      {
       "metadata": {},
       "output_type": "pyout",
       "prompt_number": 9,
       "text": [
        "array(['Cold', 'HayFever', 'Healthy'], dtype=object)"
       ]
      }
     ],
     "prompt_number": 9
    },
    {
     "cell_type": "code",
     "collapsed": false,
     "input": [
      "y_encoder_test.classes_"
     ],
     "language": "python",
     "metadata": {},
     "outputs": [
      {
       "metadata": {},
       "output_type": "pyout",
       "prompt_number": 10,
       "text": [
        "array(['Cold', 'HayFever', 'Healthy'], dtype=object)"
       ]
      }
     ],
     "prompt_number": 10
    },
    {
     "cell_type": "code",
     "collapsed": false,
     "input": [
      "from sklearn import tree\n",
      "\n",
      "clf = tree.DecisionTreeClassifier(max_depth = 1)\n",
      "clf = clf.fit(X_train, y_train)"
     ],
     "language": "python",
     "metadata": {},
     "outputs": [],
     "prompt_number": 11
    },
    {
     "cell_type": "code",
     "collapsed": false,
     "input": [
      "from sklearn.metrics import accuracy_score\n",
      "from sklearn.cross_validation import cross_val_score\n",
      "\n",
      "print \"Mean CV accuracy:%f\"%(cross_val_score(clf, X_train,y_train,cv = 10).mean())\n",
      "y_pred = clf.predict(X_test)\n",
      "print \"Test Set accuracy:%f\"%(accuracy_score(y_test,y_pred))"
     ],
     "language": "python",
     "metadata": {},
     "outputs": [
      {
       "output_type": "stream",
       "stream": "stdout",
       "text": [
        "Mean CV accuracy:0.945504\n",
        "Test Set accuracy:0.942100\n"
       ]
      }
     ],
     "prompt_number": 12
    },
    {
     "cell_type": "code",
     "collapsed": false,
     "input": [
      "from sklearn.externals.six import StringIO  \n",
      "import pydot \n",
      "from IPython.display import Image\n",
      "dot_data = StringIO() \n",
      "tree.export_graphviz(clf,feature_names = X_vectorizer_train.feature_names_,  out_file=dot_data) \n",
      "graph = pydot.graph_from_dot_data(dot_data.getvalue()) \n",
      "Image(graph.create_png())\n"
     ],
     "language": "python",
     "metadata": {},
     "outputs": [
      {
       "metadata": {},
       "output_type": "pyout",
       "png": "[encoded data removed]",
       "prompt_number": 13,
       "text": [
        "<IPython.core.display.Image at 0x7fd527a23b10>"
       ]
      }
     ],
     "prompt_number": 13
    },
    {
     "cell_type": "code",
     "collapsed": false,
     "input": [],
     "language": "python",
     "metadata": {},
     "outputs": []
    }
   ],
   "metadata": {}
  }
 ]
}